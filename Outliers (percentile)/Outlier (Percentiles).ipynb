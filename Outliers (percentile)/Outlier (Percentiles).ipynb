{
 "cells": [
  {
   "cell_type": "markdown",
   "id": "26105295",
   "metadata": {},
   "source": [
    "# Feature Engineering > Feature Transformation"
   ]
  },
  {
   "cell_type": "markdown",
   "id": "8fa7ddf6",
   "metadata": {},
   "source": [
    "## Outliers Handling"
   ]
  },
  {
   "cell_type": "markdown",
   "id": "31e53b75",
   "metadata": {},
   "source": [
    "### Percentile (set percentile range based on business problem)"
   ]
  },
  {
   "cell_type": "markdown",
   "id": "0ad1f4f3",
   "metadata": {},
   "source": [
    "### Importing Dependencies"
   ]
  },
  {
   "cell_type": "code",
   "execution_count": 1,
   "id": "a1a59c68",
   "metadata": {},
   "outputs": [],
   "source": [
    "import numpy as np\n",
    "import pandas as pd\n",
    "import seaborn as sns\n",
    "import matplotlib.pyplot as plt\n",
    "import warnings\n",
    "warnings.filterwarnings(\"ignore\")\n",
    "%matplotlib inline"
   ]
  },
  {
   "cell_type": "markdown",
   "id": "67c46cd0",
   "metadata": {},
   "source": [
    "### Load Data"
   ]
  },
  {
   "cell_type": "code",
   "execution_count": 2,
   "id": "75bca5b8",
   "metadata": {},
   "outputs": [
    {
     "data": {
      "text/html": [
       "<div>\n",
       "<style scoped>\n",
       "    .dataframe tbody tr th:only-of-type {\n",
       "        vertical-align: middle;\n",
       "    }\n",
       "\n",
       "    .dataframe tbody tr th {\n",
       "        vertical-align: top;\n",
       "    }\n",
       "\n",
       "    .dataframe thead th {\n",
       "        text-align: right;\n",
       "    }\n",
       "</style>\n",
       "<table border=\"1\" class=\"dataframe\">\n",
       "  <thead>\n",
       "    <tr style=\"text-align: right;\">\n",
       "      <th></th>\n",
       "      <th>Gender</th>\n",
       "      <th>Height</th>\n",
       "      <th>Weight</th>\n",
       "    </tr>\n",
       "  </thead>\n",
       "  <tbody>\n",
       "    <tr>\n",
       "      <th>0</th>\n",
       "      <td>Male</td>\n",
       "      <td>73.847017</td>\n",
       "      <td>241.893563</td>\n",
       "    </tr>\n",
       "    <tr>\n",
       "      <th>1</th>\n",
       "      <td>Male</td>\n",
       "      <td>68.781904</td>\n",
       "      <td>162.310473</td>\n",
       "    </tr>\n",
       "    <tr>\n",
       "      <th>2</th>\n",
       "      <td>Male</td>\n",
       "      <td>74.110105</td>\n",
       "      <td>212.740856</td>\n",
       "    </tr>\n",
       "    <tr>\n",
       "      <th>3</th>\n",
       "      <td>Male</td>\n",
       "      <td>71.730978</td>\n",
       "      <td>220.042470</td>\n",
       "    </tr>\n",
       "    <tr>\n",
       "      <th>4</th>\n",
       "      <td>Male</td>\n",
       "      <td>69.881796</td>\n",
       "      <td>206.349801</td>\n",
       "    </tr>\n",
       "  </tbody>\n",
       "</table>\n",
       "</div>"
      ],
      "text/plain": [
       "  Gender     Height      Weight\n",
       "0   Male  73.847017  241.893563\n",
       "1   Male  68.781904  162.310473\n",
       "2   Male  74.110105  212.740856\n",
       "3   Male  71.730978  220.042470\n",
       "4   Male  69.881796  206.349801"
      ]
     },
     "execution_count": 2,
     "metadata": {},
     "output_type": "execute_result"
    }
   ],
   "source": [
    "#load data\n",
    "df1=pd.read_csv('weight-height.csv')\n",
    "#first 5 rows\n",
    "df1.head()"
   ]
  },
  {
   "cell_type": "code",
   "execution_count": 3,
   "id": "0ec567db",
   "metadata": {},
   "outputs": [
    {
     "data": {
      "text/plain": [
       "(10000, 3)"
      ]
     },
     "execution_count": 3,
     "metadata": {},
     "output_type": "execute_result"
    }
   ],
   "source": [
    "#shape\n",
    "df1.shape"
   ]
  },
  {
   "cell_type": "code",
   "execution_count": 4,
   "id": "ae89236f",
   "metadata": {},
   "outputs": [
    {
     "name": "stdout",
     "output_type": "stream",
     "text": [
      "<class 'pandas.core.frame.DataFrame'>\n",
      "RangeIndex: 10000 entries, 0 to 9999\n",
      "Data columns (total 3 columns):\n",
      " #   Column  Non-Null Count  Dtype  \n",
      "---  ------  --------------  -----  \n",
      " 0   Gender  10000 non-null  object \n",
      " 1   Height  10000 non-null  float64\n",
      " 2   Weight  10000 non-null  float64\n",
      "dtypes: float64(2), object(1)\n",
      "memory usage: 234.5+ KB\n"
     ]
    }
   ],
   "source": [
    "#basic information(data-types, missing values)\n",
    "df1.info()"
   ]
  },
  {
   "cell_type": "markdown",
   "id": "a3506380",
   "metadata": {},
   "source": [
    "### Graphical Analysis"
   ]
  },
  {
   "cell_type": "code",
   "execution_count": 5,
   "id": "8f4ff8fb",
   "metadata": {},
   "outputs": [
    {
     "data": {
      "text/plain": [
       "<AxesSubplot:xlabel='Height'>"
      ]
     },
     "execution_count": 5,
     "metadata": {},
     "output_type": "execute_result"
    },
    {
     "data": {
      "image/png": "[encoded data removed]",
      "text/plain": [
       "<Figure size 864x360 with 2 Axes>"
      ]
     },
     "metadata": {
      "needs_background": "light"
     },
     "output_type": "display_data"
    }
   ],
   "source": [
    "#distplot and boxplot of 'Weight'\n",
    "plt.figure(figsize=(12, 5))\n",
    "\n",
    "plt.subplot(1,2,1)\n",
    "sns.distplot(df1['Height'])\n",
    "plt.subplot(1,2,2)\n",
    "sns.boxplot(df1['Height'])\n",
    "\n",
    "#observation-->'Height' has more outliers so will focus on it for now."
   ]
  },
  {
   "cell_type": "code",
   "execution_count": 6,
   "id": "8b40dc62",
   "metadata": {},
   "outputs": [
    {
     "data": {
      "text/plain": [
       "<AxesSubplot:xlabel='Weight'>"
      ]
     },
     "execution_count": 6,
     "metadata": {},
     "output_type": "execute_result"
    },
    {
     "data": {
      "image/png": "[encoded data removed]",
      "text/plain": [
       "<Figure size 864x360 with 2 Axes>"
      ]
     },
     "metadata": {
      "needs_background": "light"
     },
     "output_type": "display_data"
    }
   ],
   "source": [
    "#distplot and boxplot of 'Weight'\n",
    "plt.figure(figsize=(12, 5))\n",
    "\n",
    "plt.subplot(1,2,1)\n",
    "sns.distplot(df1['Weight'])\n",
    "plt.subplot(1,2,2)\n",
    "sns.boxplot(df1['Weight'])\n",
    "            \n",
    "#observation-->'Height' has more outliers so will focus on it for now."
   ]
  },
  {
   "cell_type": "markdown",
   "id": "33b86d0a",
   "metadata": {},
   "source": [
    "**so here we will focus on 'Height' having more outliers than 'Weight'**"
   ]
  },
  {
   "cell_type": "code",
   "execution_count": 7,
   "id": "ca7c5208",
   "metadata": {
    "scrolled": true
   },
   "outputs": [
    {
     "data": {
      "text/plain": [
       "count    10000.000000\n",
       "mean        66.367560\n",
       "std          3.847528\n",
       "min         54.263133\n",
       "25%         63.505620\n",
       "50%         66.318070\n",
       "75%         69.174262\n",
       "max         78.998742\n",
       "Name: Height, dtype: float64"
      ]
     },
     "execution_count": 7,
     "metadata": {},
     "output_type": "execute_result"
    }
   ],
   "source": [
    "#statistical analysis of 'Height'\n",
    "df1['Height'].describe()"
   ]
  },
  {
   "cell_type": "markdown",
   "id": "8a1f536e",
   "metadata": {},
   "source": [
    "### Percentile Set"
   ]
  },
  {
   "cell_type": "code",
   "execution_count": 8,
   "id": "31fe17e7",
   "metadata": {},
   "outputs": [
    {
     "name": "stdout",
     "output_type": "stream",
     "text": [
      "58.13441158671655 74.7857900583366\n"
     ]
    }
   ],
   "source": [
    "per_99=df1['Height'].quantile(0.99) #99-percentile\n",
    "per_01=df1['Height'].quantile(0.01) #1-percentile\n",
    "print(per_01, per_99)"
   ]
  },
  {
   "cell_type": "markdown",
   "id": "85040b2a",
   "metadata": {},
   "source": [
    "#### Trimming (remove outliers)"
   ]
  },
  {
   "cell_type": "code",
   "execution_count": 9,
   "id": "9e835d75",
   "metadata": {},
   "outputs": [
    {
     "data": {
      "text/html": [
       "<div>\n",
       "<style scoped>\n",
       "    .dataframe tbody tr th:only-of-type {\n",
       "        vertical-align: middle;\n",
       "    }\n",
       "\n",
       "    .dataframe tbody tr th {\n",
       "        vertical-align: top;\n",
       "    }\n",
       "\n",
       "    .dataframe thead th {\n",
       "        text-align: right;\n",
       "    }\n",
       "</style>\n",
       "<table border=\"1\" class=\"dataframe\">\n",
       "  <thead>\n",
       "    <tr style=\"text-align: right;\">\n",
       "      <th></th>\n",
       "      <th>Gender</th>\n",
       "      <th>Height</th>\n",
       "      <th>Weight</th>\n",
       "    </tr>\n",
       "  </thead>\n",
       "  <tbody>\n",
       "    <tr>\n",
       "      <th>23</th>\n",
       "      <td>Male</td>\n",
       "      <td>75.205974</td>\n",
       "      <td>228.761781</td>\n",
       "    </tr>\n",
       "    <tr>\n",
       "      <th>190</th>\n",
       "      <td>Male</td>\n",
       "      <td>76.709835</td>\n",
       "      <td>235.035419</td>\n",
       "    </tr>\n",
       "    <tr>\n",
       "      <th>197</th>\n",
       "      <td>Male</td>\n",
       "      <td>75.944460</td>\n",
       "      <td>231.924749</td>\n",
       "    </tr>\n",
       "    <tr>\n",
       "      <th>202</th>\n",
       "      <td>Male</td>\n",
       "      <td>75.140821</td>\n",
       "      <td>224.124271</td>\n",
       "    </tr>\n",
       "    <tr>\n",
       "      <th>215</th>\n",
       "      <td>Male</td>\n",
       "      <td>74.795375</td>\n",
       "      <td>232.635403</td>\n",
       "    </tr>\n",
       "    <tr>\n",
       "      <th>...</th>\n",
       "      <td>...</td>\n",
       "      <td>...</td>\n",
       "      <td>...</td>\n",
       "    </tr>\n",
       "    <tr>\n",
       "      <th>9761</th>\n",
       "      <td>Female</td>\n",
       "      <td>56.975279</td>\n",
       "      <td>90.341784</td>\n",
       "    </tr>\n",
       "    <tr>\n",
       "      <th>9825</th>\n",
       "      <td>Female</td>\n",
       "      <td>55.979198</td>\n",
       "      <td>85.417534</td>\n",
       "    </tr>\n",
       "    <tr>\n",
       "      <th>9895</th>\n",
       "      <td>Female</td>\n",
       "      <td>57.740192</td>\n",
       "      <td>93.652957</td>\n",
       "    </tr>\n",
       "    <tr>\n",
       "      <th>9904</th>\n",
       "      <td>Female</td>\n",
       "      <td>57.028857</td>\n",
       "      <td>101.202551</td>\n",
       "    </tr>\n",
       "    <tr>\n",
       "      <th>9978</th>\n",
       "      <td>Female</td>\n",
       "      <td>57.375759</td>\n",
       "      <td>114.192209</td>\n",
       "    </tr>\n",
       "  </tbody>\n",
       "</table>\n",
       "<p>200 rows × 3 columns</p>\n",
       "</div>"
      ],
      "text/plain": [
       "      Gender     Height      Weight\n",
       "23      Male  75.205974  228.761781\n",
       "190     Male  76.709835  235.035419\n",
       "197     Male  75.944460  231.924749\n",
       "202     Male  75.140821  224.124271\n",
       "215     Male  74.795375  232.635403\n",
       "...      ...        ...         ...\n",
       "9761  Female  56.975279   90.341784\n",
       "9825  Female  55.979198   85.417534\n",
       "9895  Female  57.740192   93.652957\n",
       "9904  Female  57.028857  101.202551\n",
       "9978  Female  57.375759  114.192209\n",
       "\n",
       "[200 rows x 3 columns]"
      ]
     },
     "execution_count": 9,
     "metadata": {},
     "output_type": "execute_result"
    }
   ],
   "source": [
    "#range of percentiles [01-99]percentile\n",
    "df1[(df1['Height']<per_01) | (df1['Height']>per_99)]\n",
    "#observation-->200 rows in not in [1-99] percentile range"
   ]
  },
  {
   "cell_type": "code",
   "execution_count": 10,
   "id": "4a57ba9c",
   "metadata": {},
   "outputs": [
    {
     "name": "stdout",
     "output_type": "stream",
     "text": [
      "9800\n"
     ]
    },
    {
     "data": {
      "text/html": [
       "<div>\n",
       "<style scoped>\n",
       "    .dataframe tbody tr th:only-of-type {\n",
       "        vertical-align: middle;\n",
       "    }\n",
       "\n",
       "    .dataframe tbody tr th {\n",
       "        vertical-align: top;\n",
       "    }\n",
       "\n",
       "    .dataframe thead th {\n",
       "        text-align: right;\n",
       "    }\n",
       "</style>\n",
       "<table border=\"1\" class=\"dataframe\">\n",
       "  <thead>\n",
       "    <tr style=\"text-align: right;\">\n",
       "      <th></th>\n",
       "      <th>Gender</th>\n",
       "      <th>Height</th>\n",
       "      <th>Weight</th>\n",
       "    </tr>\n",
       "  </thead>\n",
       "  <tbody>\n",
       "    <tr>\n",
       "      <th>0</th>\n",
       "      <td>Male</td>\n",
       "      <td>73.847017</td>\n",
       "      <td>241.893563</td>\n",
       "    </tr>\n",
       "    <tr>\n",
       "      <th>1</th>\n",
       "      <td>Male</td>\n",
       "      <td>68.781904</td>\n",
       "      <td>162.310473</td>\n",
       "    </tr>\n",
       "    <tr>\n",
       "      <th>2</th>\n",
       "      <td>Male</td>\n",
       "      <td>74.110105</td>\n",
       "      <td>212.740856</td>\n",
       "    </tr>\n",
       "    <tr>\n",
       "      <th>3</th>\n",
       "      <td>Male</td>\n",
       "      <td>71.730978</td>\n",
       "      <td>220.042470</td>\n",
       "    </tr>\n",
       "    <tr>\n",
       "      <th>4</th>\n",
       "      <td>Male</td>\n",
       "      <td>69.881796</td>\n",
       "      <td>206.349801</td>\n",
       "    </tr>\n",
       "    <tr>\n",
       "      <th>...</th>\n",
       "      <td>...</td>\n",
       "      <td>...</td>\n",
       "      <td>...</td>\n",
       "    </tr>\n",
       "    <tr>\n",
       "      <th>9995</th>\n",
       "      <td>Female</td>\n",
       "      <td>66.172652</td>\n",
       "      <td>136.777454</td>\n",
       "    </tr>\n",
       "    <tr>\n",
       "      <th>9996</th>\n",
       "      <td>Female</td>\n",
       "      <td>67.067155</td>\n",
       "      <td>170.867906</td>\n",
       "    </tr>\n",
       "    <tr>\n",
       "      <th>9997</th>\n",
       "      <td>Female</td>\n",
       "      <td>63.867992</td>\n",
       "      <td>128.475319</td>\n",
       "    </tr>\n",
       "    <tr>\n",
       "      <th>9998</th>\n",
       "      <td>Female</td>\n",
       "      <td>69.034243</td>\n",
       "      <td>163.852461</td>\n",
       "    </tr>\n",
       "    <tr>\n",
       "      <th>9999</th>\n",
       "      <td>Female</td>\n",
       "      <td>61.944246</td>\n",
       "      <td>113.649103</td>\n",
       "    </tr>\n",
       "  </tbody>\n",
       "</table>\n",
       "<p>9800 rows × 3 columns</p>\n",
       "</div>"
      ],
      "text/plain": [
       "      Gender     Height      Weight\n",
       "0       Male  73.847017  241.893563\n",
       "1       Male  68.781904  162.310473\n",
       "2       Male  74.110105  212.740856\n",
       "3       Male  71.730978  220.042470\n",
       "4       Male  69.881796  206.349801\n",
       "...      ...        ...         ...\n",
       "9995  Female  66.172652  136.777454\n",
       "9996  Female  67.067155  170.867906\n",
       "9997  Female  63.867992  128.475319\n",
       "9998  Female  69.034243  163.852461\n",
       "9999  Female  61.944246  113.649103\n",
       "\n",
       "[9800 rows x 3 columns]"
      ]
     },
     "execution_count": 10,
     "metadata": {},
     "output_type": "execute_result"
    }
   ],
   "source": [
    "#data without outliers\n",
    "df2=df1.drop(df1[(df1['Height']<per_01) | (df1['Height']>per_99)].index)\n",
    "print(len(df2))\n",
    "df2\n",
    "#observation-->9800=(10000-200)rows"
   ]
  },
  {
   "cell_type": "code",
   "execution_count": 11,
   "id": "be55ab4f",
   "metadata": {},
   "outputs": [
    {
     "data": {
      "text/plain": [
       "count    10000.000000\n",
       "mean        66.367560\n",
       "std          3.847528\n",
       "min         54.263133\n",
       "25%         63.505620\n",
       "50%         66.318070\n",
       "75%         69.174262\n",
       "max         78.998742\n",
       "Name: Height, dtype: float64"
      ]
     },
     "execution_count": 11,
     "metadata": {},
     "output_type": "execute_result"
    }
   ],
   "source": [
    "#before trimming description of 'Height'\n",
    "df1['Height'].describe()"
   ]
  },
  {
   "cell_type": "code",
   "execution_count": 12,
   "id": "a660bb58",
   "metadata": {},
   "outputs": [
    {
     "data": {
      "text/plain": [
       "count    9800.000000\n",
       "mean       66.364366\n",
       "std         3.645075\n",
       "min        58.134496\n",
       "25%        63.577162\n",
       "50%        66.318070\n",
       "75%        69.119896\n",
       "max        74.785714\n",
       "Name: Height, dtype: float64"
      ]
     },
     "execution_count": 12,
     "metadata": {},
     "output_type": "execute_result"
    }
   ],
   "source": [
    "#after trimming description of 'Height'\n",
    "df2['Height'].describe()"
   ]
  },
  {
   "cell_type": "code",
   "execution_count": 13,
   "id": "fb36f70d",
   "metadata": {},
   "outputs": [
    {
     "data": {
      "image/png": "[encoded data removed]",
      "text/plain": [
       "<Figure size 864x720 with 4 Axes>"
      ]
     },
     "metadata": {
      "needs_background": "light"
     },
     "output_type": "display_data"
    }
   ],
   "source": [
    "#distplot and boxplot of 'Height' before and after triming outliers\n",
    "\n",
    "plt.figure(figsize=(12, 10))\n",
    "\n",
    "plt.subplot(2,2,1)\n",
    "sns.distplot(df1['Height'])\n",
    "plt.subplot(2,2,2)\n",
    "sns.boxplot(df1['Height'])\n",
    "plt.title(\"Before removing outliers\", loc='center')\n",
    "\n",
    "plt.subplot(2,2,3)\n",
    "sns.distplot(df2['Height'])\n",
    "plt.subplot(2,2,4)\n",
    "sns.boxplot(df2['Height'])\n",
    "plt.title(\"After removing outliers\", loc='center')\n",
    "\n",
    "plt.show()\n",
    "#observation-->one outlier is still left(maybe data cleaning is required)"
   ]
  },
  {
   "cell_type": "markdown",
   "id": "52c04f97",
   "metadata": {},
   "source": [
    "#### Capping (set lower and upper bound values to outliers)"
   ]
  },
  {
   "cell_type": "code",
   "execution_count": 14,
   "id": "b0b77910",
   "metadata": {},
   "outputs": [
    {
     "name": "stdout",
     "output_type": "stream",
     "text": [
      "58.13441158671655 74.7857900583366\n"
     ]
    }
   ],
   "source": [
    "#Capping\n",
    "print(per_01, per_99)"
   ]
  },
  {
   "cell_type": "code",
   "execution_count": 15,
   "id": "ace71318",
   "metadata": {},
   "outputs": [],
   "source": [
    "#setting lower and upper limit values on outliers using np.where\n",
    "df1['Height_new']=np.where(df1['Height']<per_01, per_01, np.where(df1['Height']>per_99, per_99, df1['Height']))"
   ]
  },
  {
   "cell_type": "code",
   "execution_count": 16,
   "id": "3ad85c3f",
   "metadata": {},
   "outputs": [
    {
     "data": {
      "text/html": [
       "<div>\n",
       "<style scoped>\n",
       "    .dataframe tbody tr th:only-of-type {\n",
       "        vertical-align: middle;\n",
       "    }\n",
       "\n",
       "    .dataframe tbody tr th {\n",
       "        vertical-align: top;\n",
       "    }\n",
       "\n",
       "    .dataframe thead th {\n",
       "        text-align: right;\n",
       "    }\n",
       "</style>\n",
       "<table border=\"1\" class=\"dataframe\">\n",
       "  <thead>\n",
       "    <tr style=\"text-align: right;\">\n",
       "      <th></th>\n",
       "      <th>count</th>\n",
       "      <th>mean</th>\n",
       "      <th>std</th>\n",
       "      <th>min</th>\n",
       "      <th>25%</th>\n",
       "      <th>50%</th>\n",
       "      <th>75%</th>\n",
       "      <th>max</th>\n",
       "    </tr>\n",
       "  </thead>\n",
       "  <tbody>\n",
       "    <tr>\n",
       "      <th>Height</th>\n",
       "      <td>10000.0</td>\n",
       "      <td>66.367560</td>\n",
       "      <td>3.847528</td>\n",
       "      <td>54.263133</td>\n",
       "      <td>63.50562</td>\n",
       "      <td>66.31807</td>\n",
       "      <td>69.174262</td>\n",
       "      <td>78.998742</td>\n",
       "    </tr>\n",
       "    <tr>\n",
       "      <th>Height_new</th>\n",
       "      <td>10000.0</td>\n",
       "      <td>66.366281</td>\n",
       "      <td>3.795717</td>\n",
       "      <td>58.134412</td>\n",
       "      <td>63.50562</td>\n",
       "      <td>66.31807</td>\n",
       "      <td>69.174262</td>\n",
       "      <td>74.785790</td>\n",
       "    </tr>\n",
       "  </tbody>\n",
       "</table>\n",
       "</div>"
      ],
      "text/plain": [
       "              count       mean       std        min       25%       50%  \\\n",
       "Height      10000.0  66.367560  3.847528  54.263133  63.50562  66.31807   \n",
       "Height_new  10000.0  66.366281  3.795717  58.134412  63.50562  66.31807   \n",
       "\n",
       "                  75%        max  \n",
       "Height      69.174262  78.998742  \n",
       "Height_new  69.174262  74.785790  "
      ]
     },
     "execution_count": 16,
     "metadata": {},
     "output_type": "execute_result"
    }
   ],
   "source": [
    "#'cgpa' and 'cgpa_new' data description\n",
    "df1[['Height', 'Height_new']].describe().T"
   ]
  },
  {
   "cell_type": "code",
   "execution_count": 17,
   "id": "4ac04c4d",
   "metadata": {},
   "outputs": [
    {
     "data": {
      "text/plain": [
       "(10000, 4)"
      ]
     },
     "execution_count": 17,
     "metadata": {},
     "output_type": "execute_result"
    }
   ],
   "source": [
    "#shape(no rows are removd here, instead outliers are set to new values)\n",
    "df1.shape"
   ]
  },
  {
   "cell_type": "code",
   "execution_count": 18,
   "id": "7b3c0a8a",
   "metadata": {},
   "outputs": [
    {
     "data": {
      "image/png": "[encoded data removed]",
      "text/plain": [
       "<Figure size 864x720 with 4 Axes>"
      ]
     },
     "metadata": {
      "needs_background": "light"
     },
     "output_type": "display_data"
    }
   ],
   "source": [
    "#distplot and boxplot of 'Height' before and after capping outliers\n",
    "\n",
    "plt.figure(figsize=(12, 10))\n",
    "\n",
    "plt.subplot(2,2,1)\n",
    "sns.distplot(df1['Height'])\n",
    "plt.subplot(2,2,2)\n",
    "sns.boxplot(df1['Height'])\n",
    "plt.title(\"Before removing outliers\", loc='center')\n",
    "\n",
    "plt.subplot(2,2,3)\n",
    "sns.distplot(df1['Height_new'])\n",
    "plt.subplot(2,2,4)\n",
    "sns.boxplot(df1['Height_new'])\n",
    "plt.title(\"After removing outliers\", loc='center')\n",
    "\n",
    "plt.show()\n",
    "#observation-->'Height' some outliers removed"
   ]
  },
  {
   "cell_type": "markdown",
   "id": "2658a0e8",
   "metadata": {},
   "source": [
    "**END of Document**"
   ]
  }
 ],
 "metadata": {
  "kernelspec": {
   "display_name": "Python 3",
   "language": "python",
   "name": "python3"
  },
  "language_info": {
   "codemirror_mode": {
    "name": "ipython",
    "version": 3
   },
   "file_extension": ".py",
   "mimetype": "text/x-python",
   "name": "python",
   "nbconvert_exporter": "python",
   "pygments_lexer": "ipython3",
   "version": "3.8.8"
  }
 },
 "nbformat": 4,
 "nbformat_minor": 5
}
